{
 "cells": [
  {
   "cell_type": "code",
   "execution_count": null,
   "metadata": {},
   "outputs": [
    {
     "name": "stdout",
     "output_type": "stream",
     "text": [
      "[1, 2, 3, 4, 5]\n"
     ]
    }
   ],
   "source": [
    "#Imprimir los números del 1 al 5 utilizando un bucle for\n",
    "\n",
    "numeros = [4,3,5,1,2]\n",
    "\n",
    "for i in range(1,6):\n",
    "    numeros.sort()\n",
    "print(numeros)"
   ]
  },
  {
   "cell_type": "code",
   "execution_count": null,
   "metadata": {},
   "outputs": [
    {
     "name": "stdout",
     "output_type": "stream",
     "text": [
      "55\n"
     ]
    }
   ],
   "source": [
    "#2-Calcular la suma de los primeros 10 números naturales utilizando un bucle for\n",
    "#para calcular la suma de los primeros 10 números naturales (1 + 2 + 3 + ... + 10).\n",
    "\n",
    "suma=0\n",
    "for i in range(1,11):\n",
    "    suma +=i\n",
    "print (suma)"
   ]
  },
  {
   "cell_type": "code",
   "execution_count": null,
   "metadata": {},
   "outputs": [
    {
     "name": "stdout",
     "output_type": "stream",
     "text": [
      "120\n"
     ]
    }
   ],
   "source": [
    "#3-Calcular el producto de los elementos de una lista\n",
    "#Dada una lista de números, utiliza un bucle for para calcular el producto de todos los elementos.\n",
    "\n",
    "producto=1\n",
    "\n",
    "numeros = [4,3,5,1,2]\n",
    "for i in numeros:\n",
    "    producto *= i\n",
    "print (producto)"
   ]
  },
  {
   "cell_type": "code",
   "execution_count": null,
   "metadata": {},
   "outputs": [
    {
     "name": "stdout",
     "output_type": "stream",
     "text": [
      "Dame una N\n",
      "Dame una E\n",
      "Dame una Y\n",
      "Dame una D\n",
      "Dame una E\n"
     ]
    }
   ],
   "source": [
    "#4-Imprimir los caracteres de una cadena de texto\n",
    "#Dada una cadena de texto, utiliza un bucle for para imprimir cada carácter en una línea separada.\n",
    "\n",
    "for i in \"neyde\":\n",
    "    print(f\"Dame una {i.upper()}\")\n"
   ]
  },
  {
   "cell_type": "code",
   "execution_count": null,
   "metadata": {},
   "outputs": [
    {
     "name": "stdout",
     "output_type": "stream",
     "text": [
      "[2, 4, 6, 8, 10, 12, 14, 16, 18, 20, 22, 24, 26, 28, 30, 32, 34, 36, 38, 40, 42, 44, 46, 48, 50, 52, 54, 56, 58, 60, 62, 64, 66, 68, 70, 72, 74, 76, 78, 80, 82, 84, 86, 88, 90, 92, 94, 96, 98, 100]\n"
     ]
    }
   ],
   "source": [
    "#5-Imprimir los números pares del 1 al 100 utilizando un bucle for\n",
    "#Utiliza un bucle for para imprimir los números pares del 1 al 100 en orden ascendente.\n",
    "\n",
    "numeros_pares = []\n",
    "\n",
    "for num in range(1,101):\n",
    "    if num % 2 == 0:\n",
    "        numeros_pares.append(num)\n",
    "print(numeros_pares)"
   ]
  },
  {
   "cell_type": "code",
   "execution_count": 18,
   "metadata": {},
   "outputs": [
    {
     "name": "stdout",
     "output_type": "stream",
     "text": [
      "Números primos del 1 al 50: [2, 3, 5, 7, 11, 13, 17, 19, 23, 29, 31, 37, 41, 43, 47]\n"
     ]
    }
   ],
   "source": [
    "#6-Imprimir los números primos del 1 al 50 utilizando un bucle for\n",
    "#Utiliza un bucle for para imprimir los números primos del 1 al 50 en orden ascendente.\n",
    "#un número primo es un número natural mayor que 1 que no tiene divisores positivos más que 1 y él mismo.\n",
    "\n",
    "numeros_primos = []\n",
    "\n",
    "for num in range(1, 51):  # Iterar del 1 al 50\n",
    "    if num > 1:  # Los números primos son mayores que 1\n",
    "        es_primo = True\n",
    "        for i in range(2, int(num ** 0.5) + 1):  # Comprobar divisores hasta la raíz cuadrada de num\n",
    "            if num % i == 0:  # Si es divisible, no es primo\n",
    "                es_primo = False\n",
    "                break\n",
    "        if es_primo:\n",
    "            numeros_primos.append(num)\n",
    "\n",
    "print(\"Números primos del 1 al 50:\", numeros_primos)"
   ]
  },
  {
   "cell_type": "code",
   "execution_count": 3,
   "metadata": {},
   "outputs": [
    {
     "name": "stdout",
     "output_type": "stream",
     "text": [
      "El factorial de 10 es: 3628800\n"
     ]
    }
   ],
   "source": [
    "#7-Calcular el factorial de un número utilizando un bucle for\n",
    "#Dado un número entero positivo, calcula su factorial utilizando un bucle for.\n",
    "\n",
    "numero = 10\n",
    "factorial = 1\n",
    "\n",
    "# Bucle para calcular el factorial\n",
    "for i in range(1, numero + 1):\n",
    "    factorial *= i\n",
    "\n",
    "# Mostrar el resultado\n",
    "print(f\"El factorial de {numero} es: {factorial}\")\n"
   ]
  },
  {
   "cell_type": "code",
   "execution_count": 15,
   "metadata": {},
   "outputs": [
    {
     "name": "stdout",
     "output_type": "stream",
     "text": [
      "¡Bienvenida al juego de adivinar una palabra!\n",
      "Recuerda tienes 3 intentos para adivinar\n",
      "\n",
      "Intento 1\n",
      "Pista: Es una escuela de formacion digital para mujeres\n",
      "Tu respuesta Oo es INCORRECTA. Sigue intentándolo.\n",
      "\n",
      "Intento 2\n",
      "Pista: Su misión es reducir la brecha de género en el sector tech.\n",
      "¡Felicidades! Adalab  era la palabra secreta:\n"
     ]
    }
   ],
   "source": [
    "#8-Juego de adivinar palabras utilizando un bucle for\n",
    "\n",
    "#La palabra a adivinar\n",
    "palabra_secreta = \"Adalab\"\n",
    "\n",
    "print(\"\"\"¡Bienvenida al juego de adivinar una palabra!\n",
    "Recuerda tienes 3 intentos para adivinar\"\"\")\n",
    "\n",
    "pistas = [\n",
    "    \"Es una escuela de formacion digital para mujeres\",\n",
    "    \"Su misión es reducir la brecha de género en el sector tech.\",\n",
    "    \"Es española\",\n",
    "    \"Ofrecen bootcamps de Programacion web y Analisis de datos\",\n",
    "]\n",
    "\n",
    "# Máximo de intentos\n",
    "max_intentos = 3\n",
    "intentos = 0\n",
    "\n",
    "# Bucle para los intentos\n",
    "for intento in range(max_intentos):\n",
    "    print(f\"\\nIntento {intento + 1}\")\n",
    "    print(\"Pista:\", pistas[intento])  # Mostrar una pista según el intento\n",
    "\n",
    "    respuesta = input(\"¿Cuál es la palabra secreta?: \").title()\n",
    "\n",
    "    if respuesta == palabra_secreta:\n",
    "        print(\"¡Felicidades!\", palabra_secreta,\" era la palabra secreta:\")\n",
    "        break\n",
    "    else:\n",
    "        print(\"Tu respuesta\",respuesta, \"es INCORRECTA. Sigue intentándolo.\")\n",
    "        intentos += 1\n",
    "\n",
    "# Si se agotan los intentos y no se acierta\n",
    "if intentos == max_intentos:\n",
    "    print(\"\\nLo siento, has agotado todos los intentos.\")\n",
    "    print(\"La palabra secreta era:\", palabra_secreta)"
   ]
  },
  {
   "cell_type": "code",
   "execution_count": null,
   "metadata": {},
   "outputs": [
    {
     "name": "stdout",
     "output_type": "stream",
     "text": [
      "[2, 4, 6, 8, 10, 12, 14, 16, 18, 20]\n"
     ]
    }
   ],
   "source": [
    "#Ejercicios _list comprehension_\n",
    "\n",
    "#1- Utiliza list comprehension para generar una lista que contenga todos los números pares en el rango del 1 al 20.\n",
    "#range(1, 21): Genera números del 1 al 20.\n",
    "#if num % 2 == 0: Filtra los números que son divisibles por 2, es decir, los números pares.\n",
    "#[num for num in ...]: Crea la lista directamente con los valores que cumplen la condición.\n",
    "numeros_pares = [num for num in range(1, 21) if num % 2 == 0]\n",
    "print(numeros_pares)\n",
    "\n"
   ]
  },
  {
   "cell_type": "code",
   "execution_count": null,
   "metadata": {},
   "outputs": [
    {
     "name": "stdout",
     "output_type": "stream",
     "text": [
      "la vocales en Eleonora son: {'e', 'a', 'o'}\n"
     ]
    }
   ],
   "source": [
    "#2- Utiliza list comprehension para crear una lista que contenga todas las vocales presentes en una cadena de texto (sin repetición)\n",
    "#con set elimino las repeticiones\n",
    "\n",
    "vocales_eleonora = [vocal for vocal in \"eleonora\" if vocal in \"aeiou\"]\n",
    "print (\"la vocales en Eleonora son:\", set(vocales_eleonora))"
   ]
  },
  {
   "cell_type": "code",
   "execution_count": null,
   "metadata": {},
   "outputs": [
    {
     "name": "stdout",
     "output_type": "stream",
     "text": [
      "Los cuadrados de los números positivos son: [100, 4, 16]\n"
     ]
    }
   ],
   "source": [
    "#3-Filtrar los números positivos de una lista y calcular su cuadrado.\n",
    "#Utiliza list comprehension para filtrar los números positivos de una lista y calcular el cuadrado de cada uno.\n",
    "#con num > 0 filtro los numeros positivos\n",
    "#y con num**2 calculos los cuadrados\n",
    "\n",
    "numeros = [-6, 10, -1, 2, 0, -8, 4]\n",
    "cuadrados_positivos = [num**2 for num in numeros if num > 0]\n",
    "print(\"Los cuadrados de los números positivos son:\", cuadrados_positivos)"
   ]
  },
  {
   "cell_type": "code",
   "execution_count": null,
   "metadata": {},
   "outputs": [],
   "source": [
    "#try y except\n",
    "\n"
   ]
  }
 ],
 "metadata": {
  "kernelspec": {
   "display_name": "Python 3",
   "language": "python",
   "name": "python3"
  },
  "language_info": {
   "codemirror_mode": {
    "name": "ipython",
    "version": 3
   },
   "file_extension": ".py",
   "mimetype": "text/x-python",
   "name": "python",
   "nbconvert_exporter": "python",
   "pygments_lexer": "ipython3",
   "version": "3.9.6"
  }
 },
 "nbformat": 4,
 "nbformat_minor": 2
}
