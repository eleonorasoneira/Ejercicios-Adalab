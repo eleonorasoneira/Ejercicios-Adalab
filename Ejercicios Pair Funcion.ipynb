{
 "cells": [
  {
   "cell_type": "code",
   "execution_count": 9,
   "metadata": {},
   "outputs": [],
   "source": [
    "#PAIR FUNCIONES\n",
    "#1-Crea una función llamada calcular_area_circulo que tome el radio como parámetro y devuelva el área del círculo.\n",
    "\n",
    "def calcular_area_circulo(radio):\n",
    "    if radio>0:\n",
    "     return (3.14 * radio**2)\n"
   ]
  },
  {
   "cell_type": "code",
   "execution_count": 10,
   "metadata": {},
   "outputs": [
    {
     "data": {
      "text/plain": [
       "31400.0"
      ]
     },
     "execution_count": 10,
     "metadata": {},
     "output_type": "execute_result"
    }
   ],
   "source": [
    "calcular_area_circulo(100)"
   ]
  },
  {
   "cell_type": "code",
   "execution_count": 18,
   "metadata": {},
   "outputs": [],
   "source": [
    "#2-Contar la cantidad de caracteres en una cadena.\n",
    "#Crea una función llamada contar_caracteres que tome una cadena como parámetro y devuelva la cantidad de caracteres que contiene.\n",
    "\n",
    "def contar_caracteres (cadena):\n",
    "    return len(cadena)"
   ]
  },
  {
   "cell_type": "code",
   "execution_count": 22,
   "metadata": {},
   "outputs": [
    {
     "data": {
      "text/plain": [
       "8"
      ]
     },
     "execution_count": 22,
     "metadata": {},
     "output_type": "execute_result"
    }
   ],
   "source": [
    "contar_caracteres(\"Eleonora\")"
   ]
  },
  {
   "cell_type": "code",
   "execution_count": null,
   "metadata": {},
   "outputs": [],
   "source": [
    "#3-Determinar si una cadena es un palíndromo.\n",
    "#Crea una función llamada es_palindromo que tome una cadena como parámetro y devuelva True si es un palíndromo, o False si no lo es.\n",
    "\n",
    "def es_palindromo (cadena_texto):\n",
    "    cadena_texto = cadena_texto.lower() # Convertir toda la cadena a minúsculas\n",
    "    if cadena_texto == cadena_texto[::-1]: #compruebo que se lea igual de reves \n",
    "            print (\"Si es un palindromo\")\n",
    "    else:\n",
    "          print (\"No es un palindromo\")\n",
    "    return \n"
   ]
  },
  {
   "cell_type": "code",
   "execution_count": null,
   "metadata": {},
   "outputs": [
    {
     "name": "stdout",
     "output_type": "stream",
     "text": [
      "No es un palindromo\n",
      "Es un palindromo\n"
     ]
    }
   ],
   "source": [
    "es_palindromo (\"Eleonora\")\n",
    "es_palindromo (\"Anilina\")"
   ]
  },
  {
   "cell_type": "code",
   "execution_count": 30,
   "metadata": {},
   "outputs": [
    {
     "name": "stdout",
     "output_type": "stream",
     "text": [
      "El promedio de la lista es: 30.0\n"
     ]
    }
   ],
   "source": [
    "#4-Calcular el promedio de una lista de números.\n",
    "#Crea una función llamada def calcular_promedio que tome una (lista de números) como parámetro y devuelva el promedio de todos sus elementos.\n",
    "\n",
    "def calcular_promedio(numeros):\n",
    "    if not numeros:\n",
    "        return \"La lista está vacía. No se puede calcular el promedio.\"\n",
    "    \n",
    "    suma = sum(numeros)  # Suma de todos los elementos de la lista\n",
    "    cantidad = len(numeros)  #Para saber la cantidad de elementos en la lista\n",
    "    promedio = suma / cantidad  # Cálculo del promedio\n",
    "    return promedio\n",
    "\n",
    "# Ejemplo de uso\n",
    "numeros = [10, 20, 30, 40, 50]\n",
    "resultado = calcular_promedio(numeros)\n",
    "print(f\"El promedio de la lista es: {resultado}\")\n"
   ]
  },
  {
   "cell_type": "code",
   "execution_count": 13,
   "metadata": {},
   "outputs": [
    {
     "name": "stdout",
     "output_type": "stream",
     "text": [
      "Con un capital inicial de USD 1000,\n",
      "y una tasa de interés anual del 5%,\n",
      "en un período de 10 años,\n",
      "obtendrás un monto final incluido el capital inicial de: USD 1628.89\n"
     ]
    }
   ],
   "source": [
    "#5-Calcular el interés compuesto.\n",
    "#Crea una función llamada calcular_interes_compuesto que tome el capital inicial, la tasa de interés y el número de períodos como parámetros y devuelva el beneficio final después del interés compuesto.\n",
    "# Monto final = Capital inicial × (1 + tasa_interes) elevado a la cantidad de periodos de capitalizacion\n",
    "\n",
    "def calcular_interes_compuesto(capital_inicial, tasa_interes, num_periodos):\n",
    "    if capital_inicial <= 0 or tasa_interes < 0 or num_periodos < 0:\n",
    "        return \"Los valores deben ser positivos y válidos.\"\n",
    "\n",
    "    # Aplicar la fórmula del interés compuesto directamente con el porcentaje\n",
    "    monto_final = capital_inicial * (1 + tasa_interes / 100) ** num_periodos\n",
    "    return round(monto_final,2) # con 2 decimales \n",
    "\n",
    "# Ejemplo de uso\n",
    "capital = 1000  # Capital inicial en dólares\n",
    "tasa = 5  # Tasa de interés anual en porcentaje (5%)\n",
    "periodos = 10  # Número de años\n",
    "\n",
    "resultado = calcular_interes_compuesto(capital, tasa, periodos)\n",
    "print(f\"Con un capital inicial de USD {capital},\\n\"\n",
    "      f\"y una tasa de interés anual del {tasa}%,\\n\"\n",
    "      f\"en un período de {periodos} años,\\n\"\n",
    "      f\"obtendrás un monto final incluido el capital inicial de: USD {resultado}\")\n"
   ]
  },
  {
   "cell_type": "code",
   "execution_count": null,
   "metadata": {},
   "outputs": [
    {
     "name": "stdout",
     "output_type": "stream",
     "text": [
      "True\n",
      "False\n"
     ]
    }
   ],
   "source": [
    "#6-Validar si una palabra es un anagrama de otra.\n",
    "#Crea una función llamada es_anagrama que tome dos palabras como parámetros y devuelva True si una es un anagrama de la otra, o False si no lo es.\n",
    "\n",
    "def es_anagrama(palabra1, palabra2):\n",
    "    # Comparamos las palabras ordenadas\n",
    "    return sorted(palabra1) == sorted(palabra2)\n",
    "\n",
    "print(es_anagrama(\"amor\", \"roma\"))  # Verdadero\n",
    "print(es_anagrama(\"hola\", \"adalabers\"))  # Falso"
   ]
  },
  {
   "cell_type": "code",
   "execution_count": null,
   "metadata": {},
   "outputs": [
    {
     "name": "stdout",
     "output_type": "stream",
     "text": [
      "False\n",
      "False\n",
      "True\n"
     ]
    }
   ],
   "source": [
    "#7-Validar si una cadena de texto es un isograma.\n",
    "#Crea una función llamada es_isograma que tome una cadena de texto como parámetro y devuelva True si es un isograma. En caso contrario, devuelve False.\n",
    "#¿Qué es un isograma? Una palabra que no contiene letras repetidas.\n",
    "def es_isograma(cadena):\n",
    "    return len(cadena) == len(set(cadena)) #compuebo lo de las letras repetidas\n",
    "\n",
    "print(es_isograma(\"Adalab\"))  \n",
    "print(es_isograma(\"Eleonora\")) \n",
    "print(es_isograma(\"Soneira\"))  "
   ]
  },
  {
   "cell_type": "code",
   "execution_count": null,
   "metadata": {},
   "outputs": [
    {
     "name": "stdout",
     "output_type": "stream",
     "text": [
      "Python es genial.\n"
     ]
    }
   ],
   "source": [
    "#8-Concatenar múltiples cadenas de texto\n",
    "#Crea una función llamada concatenar_cadenas que tome una cantidad variable de cadenas de texto como argumentos y devuelva una única cadena que contenga la concatenación de todas las cadenas ingresadas.\n",
    "def concatenar_cadenas(*cadenas):\n",
    "    return \"\".join(cadenas)# Unimos todas las cadenas usando \"\".join()\n",
    "\n",
    "resultado = concatenar_cadenas(\"Python\", \" es\", \" genial.\")\n",
    "print(resultado) "
   ]
  },
  {
   "cell_type": "code",
   "execution_count": 27,
   "metadata": {},
   "outputs": [
    {
     "name": "stdout",
     "output_type": "stream",
     "text": [
      "{'nombre': 'Eleonora', 'edad': 41, 'ciudad': 'Benicassim', 'profesion': 'Analista de datos'}\n"
     ]
    }
   ],
   "source": [
    "#9-Crear un diccionario con información de una persona.\n",
    "#Crea una función llamada crear_persona que tome como argumentos clave-valor los datos de una persona, como nombre, edad, ciudad, etc., y devuelva un diccionario con toda la información ingresada.\n",
    "def crear_persona(**datos): #el uso de **kwargs,permite a la función aceptar varios argumentos clave-valor.    \n",
    "    return datos\n",
    "\n",
    "persona = crear_persona(nombre=\"Eleonora\", edad=41, ciudad=\"Benicassim\", profesion=\"Analista de datos\")\n",
    "print(persona)"
   ]
  },
  {
   "cell_type": "code",
   "execution_count": 35,
   "metadata": {},
   "outputs": [
    {
     "name": "stdout",
     "output_type": "stream",
     "text": [
      "3\n"
     ]
    }
   ],
   "source": [
    "#10-Encontrar el número que falta en una lista ordenada de números consecutivos.\n",
    "#Crea una función llamada encontrar_numero_faltante que tome una lista de números consecutivos (del 1 al N, sin repetir) con un número faltante y devuelva ese número faltante.\n",
    "def encontrar_numero_faltante(numeros_faltantes):\n",
    "    n = len(numeros_faltantes) + 1  # Longitud total esperada si no faltara ningún número\n",
    "    suma_esperada = n * (n + 1) // 2  # Suma de todos los números del 1 al N\n",
    "    suma_actual = sum(numeros_faltantes)  # Suma de los números presentes en la lista\n",
    "    return suma_esperada - suma_actual\n",
    "\n",
    "lista_faltantes = [1, 2, 4, 5, 6, 7, 8, 9] \n",
    "print(encontrar_numero_faltante(lista_faltantes))  "
   ]
  },
  {
   "cell_type": "code",
   "execution_count": null,
   "metadata": {},
   "outputs": [
    {
     "name": "stdout",
     "output_type": "stream",
     "text": [
      "3\n"
     ]
    }
   ],
   "source": [
    "#11- Encontrar el elemento duplicado en una lista de números.\n",
    "#Crea una función llamada encontrar_duplicado que tome una lista de números enteros y devuelva el elemento que está duplicado en la lista.\n",
    "def encontrar_duplicado(lista_duplicadoso):\n",
    "    vistos = set()  # creo una tupla\n",
    "    for numero_duplicado in lista_duplicadoso:\n",
    "        if numero_duplicado in vistos:\n",
    "            return numero_duplicado  \n",
    "        vistos.add(numero_duplicado)  # Agregamos el número al conjunto\n",
    "    return None  # Si no hay duplicados, retornamos None\n",
    "\n",
    "lista_ejemplo_duplicados = [1, 3, 4, 2, 5, 3] \n",
    "print(encontrar_duplicado(lista_ejemplo_duplicados))  \n"
   ]
  }
 ],
 "metadata": {
  "kernelspec": {
   "display_name": "Python 3",
   "language": "python",
   "name": "python3"
  },
  "language_info": {
   "codemirror_mode": {
    "name": "ipython",
    "version": 3
   },
   "file_extension": ".py",
   "mimetype": "text/x-python",
   "name": "python",
   "nbconvert_exporter": "python",
   "pygments_lexer": "ipython3",
   "version": "3.9.6"
  }
 },
 "nbformat": 4,
 "nbformat_minor": 2
}
