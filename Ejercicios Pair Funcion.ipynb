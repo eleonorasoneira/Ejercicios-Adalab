{
 "cells": [
  {
   "cell_type": "code",
   "execution_count": 9,
   "metadata": {},
   "outputs": [],
   "source": [
    "#PAIR FUNCIONES\n",
    "#1-Crea una función llamada calcular_area_circulo que tome el radio como parámetro y devuelva el área del círculo.\n",
    "\n",
    "def calcular_area_circulo(radio):\n",
    "    if radio>0:\n",
    "     return (3.14 * radio**2)\n"
   ]
  },
  {
   "cell_type": "code",
   "execution_count": 10,
   "metadata": {},
   "outputs": [
    {
     "data": {
      "text/plain": [
       "31400.0"
      ]
     },
     "execution_count": 10,
     "metadata": {},
     "output_type": "execute_result"
    }
   ],
   "source": [
    "calcular_area_circulo(100)"
   ]
  },
  {
   "cell_type": "code",
   "execution_count": 18,
   "metadata": {},
   "outputs": [],
   "source": [
    "#2-Contar la cantidad de caracteres en una cadena.\n",
    "#Crea una función llamada contar_caracteres que tome una cadena como parámetro y devuelva la cantidad de caracteres que contiene.\n",
    "\n",
    "def contar_caracteres (cadena):\n",
    "    return len(cadena)"
   ]
  },
  {
   "cell_type": "code",
   "execution_count": 22,
   "metadata": {},
   "outputs": [
    {
     "data": {
      "text/plain": [
       "8"
      ]
     },
     "execution_count": 22,
     "metadata": {},
     "output_type": "execute_result"
    }
   ],
   "source": [
    "contar_caracteres(\"Eleonora\")"
   ]
  },
  {
   "cell_type": "code",
   "execution_count": null,
   "metadata": {},
   "outputs": [],
   "source": [
    "#3-Determinar si una cadena es un palíndromo.\n",
    "#Crea una función llamada es_palindromo que tome una cadena como parámetro y devuelva True si es un palíndromo, o False si no lo es.\n",
    "\n",
    "def es_palindromo (cadena_texto):\n",
    "    cadena_texto = cadena_texto.lower() # Convertir toda la cadena a minúsculas\n",
    "    if cadena_texto == cadena_texto[::-1]: #compruebo que se lea igual de reves \n",
    "            print (\"Si es un palindromo\")\n",
    "    else:\n",
    "          print (\"No es un palindromo\")\n",
    "    return \n"
   ]
  },
  {
   "cell_type": "code",
   "execution_count": null,
   "metadata": {},
   "outputs": [
    {
     "name": "stdout",
     "output_type": "stream",
     "text": [
      "No es un palindromo\n",
      "Es un palindromo\n"
     ]
    }
   ],
   "source": [
    "es_palindromo (\"Eleonora\")\n",
    "es_palindromo (\"Anilina\")"
   ]
  },
  {
   "cell_type": "code",
   "execution_count": 39,
   "metadata": {},
   "outputs": [
    {
     "ename": "IndentationError",
     "evalue": "expected an indented block (2113451188.py, line 5)",
     "output_type": "error",
     "traceback": [
      "\u001b[0;36m  Cell \u001b[0;32mIn[39], line 5\u001b[0;36m\u001b[0m\n\u001b[0;31m    return sum(lista_numeros) / len(lista_numeros)\u001b[0m\n\u001b[0m    ^\u001b[0m\n\u001b[0;31mIndentationError\u001b[0m\u001b[0;31m:\u001b[0m expected an indented block\n"
     ]
    }
   ],
   "source": [
    "#4-Calcular el promedio de una lista de números.\n",
    "#Crea una función llamada def calcular_promedio que tome una (lista de números) como parámetro y devuelva el promedio de todos sus elementos.\n",
    "\n",
    "def calcular_promedio (lista_numeros):\n",
    "return sum(lista_numeros) / len(lista_numeros)\n"
   ]
  },
  {
   "cell_type": "code",
   "execution_count": null,
   "metadata": {},
   "outputs": [],
   "source": [
    "#5-Calcular el interés compuesto.\n",
    "#Crea una función llamada calcular_interes_compuesto que tome el capital inicial, la tasa de interés y el número de períodos como parámetros y devuelva el beneficio final después del interés compuesto.\n",
    "\n",
    "#6-Validar si una palabra es un anagrama de otra.\n",
    "#Crea una función llamada es_anagrama que tome dos palabras como parámetros y devuelva True si una es un anagrama de la otra, o False si no lo es.\n",
    "\n",
    "#7-Validar si una cadena de texto es un isograma.\n",
    "#Crea una función llamada es_isograma que tome una cadena de texto como parámetro y devuelva True si es un isograma. En caso contrario, devuelve False.\n",
    "#¿Qué es un isograma? Una palabra que no contiene letras repetidas.\n",
    "\n",
    "#8-Concatenar múltiples cadenas de texto\n",
    "#Crea una función llamada concatenar_cadenas que tome una cantidad variable de cadenas de texto como argumentos y devuelva una única cadena que contenga la concatenación de todas las cadenas ingresadas.\n",
    "\n",
    "#9-Crear un diccionario con información de una persona.\n",
    "#Crea una función llamada crear_persona que tome como argumentos clave-valor los datos de una persona, como nombre, edad, ciudad, etc., y devuelva un diccionario con toda la información ingresada.\n",
    "\n",
    "#10-Encontrar el número que falta en una lista ordenada de números consecutivos.\n",
    "#Crea una función llamada encontrar_numero_faltante que tome una lista de números consecutivos (del 1 al N, sin repetir) con un número faltante y devuelva ese número faltante.\n",
    "\n",
    "#11- Encontrar el elemento duplicado en una lista de números.\n",
    "#Crea una función llamada encontrar_duplicado que tome una lista de números enteros y devuelva el elemento que está duplicado en la lista."
   ]
  }
 ],
 "metadata": {
  "kernelspec": {
   "display_name": "Python 3",
   "language": "python",
   "name": "python3"
  },
  "language_info": {
   "codemirror_mode": {
    "name": "ipython",
    "version": 3
   },
   "file_extension": ".py",
   "mimetype": "text/x-python",
   "name": "python",
   "nbconvert_exporter": "python",
   "pygments_lexer": "ipython3",
   "version": "3.9.6"
  }
 },
 "nbformat": 4,
 "nbformat_minor": 2
}
