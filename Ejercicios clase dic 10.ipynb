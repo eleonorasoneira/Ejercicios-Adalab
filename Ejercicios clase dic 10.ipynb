{
 "cells": [
  {
   "cell_type": "code",
   "execution_count": null,
   "metadata": {},
   "outputs": [
    {
     "name": "stdout",
     "output_type": "stream",
     "text": [
      "Tu palabra elegida fue: tijera\n",
      "La palabra 'tijera' no está en la lista.\n"
     ]
    }
   ],
   "source": [
    "#1-Crea un programa que busque una palabra específica(elegida por la usuaria) en una cadena de texto e indique su posición.\n",
    "\n",
    "#divido la oracion en palabras\n",
    "texto=\"Piedra, Papel, Tijera\"\n",
    "frase = texto.split()\n",
    "\n",
    "palabra_elegida=input(f\"Por favor elige una palabra:{frase}\").lower()\n",
    "print (\"Tu palabra elegida fue:\", palabra_elegida)\n",
    "if palabra_elegida in frase:\n",
    "    posicion = frase.index(palabra_elegida)\n",
    "    print(f\"La palabra '{palabra_elegida}' está en la posición {posicion} de la lista.\")\n",
    "else:\n",
    "    print(f\"La palabra '{palabra_elegida}' no está en la lista.\")"
   ]
  },
  {
   "cell_type": "code",
   "execution_count": null,
   "metadata": {},
   "outputs": [
    {
     "name": "stdout",
     "output_type": "stream",
     "text": [
      "Tu lista de frutas es: ['manzana', 'pera', 'banana', 'uva', 'kiwi']\n",
      "Tu lista de frutas actualizada es: ['manzana', 'Durazno', 'banana', 'uva', 'kiwi']\n",
      "Agregamos naranja a tu lista. Tu lista de frutas ahora es: ['manzana', 'Durazno', 'banana', 'uva', 'kiwi', 'naranja']\n",
      "Eliminamos el tercer elemento que es: uva\n",
      "Entonces ahora tu lista de frutas es: ['manzana', 'Durazno', 'banana', 'uva', 'kiwi', 'naranja']\n"
     ]
    }
   ],
   "source": [
    "#2- creo la lista de frutas\n",
    "frutas = ['manzana', 'pera', 'banana', 'uva', 'kiwi']\n",
    "print(\"Tu lista de frutas es:\", frutas)\n",
    "\n",
    "#reemplazo el segundo elemento por duranzo\n",
    "frutas[1]= \"Durazno\"\n",
    "print(\"Tu lista de frutas actualizada es:\", frutas)\n",
    "\n",
    "#agrego naranja al final de la lista\n",
    "frutas.append(\"naranja\")\n",
    "print(\"Agregamos naranja a tu lista. Tu lista de frutas ahora es:\", frutas)\n",
    "\n",
    "#extraigo el tercer elemento de la lista\n",
    "extraigo_elemento3= frutas[3]\n",
    "print(\"Eliminamos el tercer elemento que es:\", extraigo_elemento3)\n",
    "print(\"Entonces ahora tu lista de frutas es:\", frutas)"
   ]
  },
  {
   "cell_type": "code",
   "execution_count": 38,
   "metadata": {},
   "outputs": [
    {
     "name": "stdout",
     "output_type": "stream",
     "text": [
      "Tu lista de numeros es: [10, 25, 15, 30, 20]\n",
      "Agregamos el 35 al final. Entonces ahora tu lista quedo asi: [35, 10, 25, 15, 30, 20]\n",
      "En orden ascendente ahora tu lista quedo asi: [10, 15, 20, 25, 30, 35]\n",
      "El índice del número 25 es: 3\n"
     ]
    }
   ],
   "source": [
    "#3-creo lista de numeros \n",
    "lista_numeros= [10,25,15,30,20]\n",
    "print(\"Tu lista de numeros es:\", lista_numeros)\n",
    "\n",
    "#agrego el valor 35\n",
    "lista_numeros.insert(0,35)\n",
    "print(\"Agregamos el 35 al final. Entonces ahora tu lista quedo asi:\", lista_numeros)\n",
    "\n",
    "#Ordeno la lista de numeros en orden ascendente\n",
    "lista_numeros.sort()\n",
    "print(\"En orden ascendente ahora tu lista quedo asi:\", lista_numeros)\n",
    "\n",
    "#Enuentro el indice numero 25\n",
    "posicion = lista_numeros.index(25)\n",
    "print(\"El índice del número 25 es:\", posicion)"
   ]
  },
  {
   "cell_type": "code",
   "execution_count": null,
   "metadata": {},
   "outputs": [
    {
     "name": "stdout",
     "output_type": "stream",
     "text": [
      "-Nuestros diccionario de frutas es: {'manzana': 2, 'banana': 3, 'uva': 5, 'pera': 4}\n",
      "-Lista de frutas: ['manzana', 'banana', 'uva', 'pera']\n",
      "-Lista de cantidades de frutas: [2, 3, 5, 4]\n",
      "-Tienes 2 manzanas.\n",
      "-No existe esa clave\n",
      "-Agrege Kiwi. Nuestros diccionario de frutas actualizado es: {'manzana': 2, 'banana': 3, 'uva': 5, 'pera': 4, 'kiwi': 6}\n",
      "-El diccionario de frutas actualizado es: {'manzana': 2, 'banana': 3, 'uva': 8, 'pera': 4, 'kiwi': 6}\n",
      "-Hay nuevas frutas: {'sandia': 7, 'mango': 4}\n",
      "-Ahora el total de frutas es: {'sandia': 7, 'mango': 4, 'manzana': 2, 'banana': 3, 'uva': 8, 'pera': 4, 'kiwi': 6}\n",
      "-Eliminamos la ultimas frutas: {'sandia': 7, 'mango': 4, 'manzana': 2, 'banana': 3, 'uva': 8, 'pera': 4}\n",
      "-Eliminamos las uvas: {'sandia': 7, 'mango': 4, 'manzana': 2, 'banana': 3, 'pera': 4}\n",
      "-La cantidad total de frutas es: 20\n",
      "-Nuestra mayor cantidad de una misma frutas es: 7\n",
      "-Nuestra menor cantidad de una misma frutas es: 2\n"
     ]
    }
   ],
   "source": [
    "#4-crear un diccionario de frutas\n",
    "diccionario_frutas = {\"manzana\" : 2, \"banana\": 3, \"uva\": 5, \"pera\":4}\n",
    "print(\"-Nuestros diccionario de frutas es:\", diccionario_frutas)\n",
    "\n",
    "#Lista de todas las frutas del diccionario\n",
    "lista_frutas = list(diccionario_frutas.keys())\n",
    "print(\"-Lista de frutas:\", lista_frutas)\n",
    "\n",
    "#Lista de las Cantidades\n",
    "lista_cantidades = list(diccionario_frutas.values())\n",
    "print(\"-Lista de cantidades de frutas:\", lista_cantidades)\n",
    "\n",
    "#cantidad de manzanas. sino existe usar Get (por si no existe ese key)\n",
    "cantidad_manzanas = diccionario_frutas[\"manzana\"]\n",
    "if \"manzana\" in diccionario_frutas:\n",
    "    print(\"-Tienes\", cantidad_manzanas, \"manzanas.\")\n",
    "else:\n",
    "    print(\"No existe esa clave\")\n",
    "\n",
    "#sino existe melon como clave - usar Get \n",
    "cantidad_manzanas = diccionario_frutas.get(\"manzana\", \"no existe\")\n",
    "if \"melon\" in diccionario_frutas:\n",
    "    print(\"-Tienes\", cantidad_manzanas, \"manzanas.\")\n",
    "else:\n",
    "    print(\"-No existe esa clave\")\n",
    "\n",
    "#agrego un nuevo clave-valor \n",
    "diccionario_frutas.update ({\"kiwi\":6})\n",
    "print(\"-Agrege Kiwi. Nuestros diccionario de frutas actualizado es:\", diccionario_frutas)\n",
    "\n",
    "#cambio la cantidad de uva a 8\n",
    "diccionario_frutas[\"uva\"]=8\n",
    "print(\"-El diccionario de frutas actualizado es:\", diccionario_frutas)\n",
    "\n",
    "#creo un segundo diccionario. \n",
    "frutas_nuevas = {\"sandia\" : 7, \"mango\":4}\n",
    "print(\"-Hay nuevas frutas:\", frutas_nuevas)\n",
    "\n",
    "#combino los dos diccionario\n",
    "frutas_total = frutas_nuevas | diccionario_frutas \n",
    "print(\"-Ahora el total de frutas es:\", frutas_total)\n",
    "\n",
    "#Elimino el ultimo par de clave-valor con popitem\n",
    "frutas_total.popitem()\n",
    "print(\"-Eliminamos la ultimas frutas:\", frutas_total)\n",
    "\n",
    "#Elimino el par clave valor de \"uva\" con pop\n",
    "frutas_total.pop (\"uva\")\n",
    "print(\"-Eliminamos las uvas:\", frutas_total)\n",
    "\n",
    "#obtengo todas las claves del diccionario y suma total de las cantidades\n",
    "#VERLO BIEN ---------------------------------\n",
    "cantidades=frutas_total.keys()\n",
    "suma_total = sum(frutas_total.values())\n",
    "print(\"-La cantidad total de frutas es:\", suma_total)\n",
    "\n",
    "#encontrar la cantidad mas grande \n",
    "cantidad_maxima=max (frutas_total.values())\n",
    "print(\"-Nuestra mayor cantidad de una misma frutas es:\", cantidad_maxima)\n",
    "\n",
    "#y mas pequeña\n",
    "cantidad_menor=min (frutas_total.values())\n",
    "print(\"-Nuestra menor cantidad de una misma frutas es:\", cantidad_menor)"
   ]
  },
  {
   "cell_type": "code",
   "execution_count": 43,
   "metadata": {},
   "outputs": [
    {
     "name": "stdout",
     "output_type": "stream",
     "text": [
      "Tu edad es: 41\n",
      " Eres una adulta\n"
     ]
    }
   ],
   "source": [
    "#5- Evaluacion de edades\n",
    "\n",
    "#Pido usuaria ingrese su edad\n",
    "edad_usuaria= int(input(\"Por favor ingresa tu edad\"))\n",
    "print (\"Tu edad es:\", edad_usuaria)\n",
    "\n",
    "if (edad_usuaria<18):\n",
    "    print(\"Eres una menor de edad\")\n",
    "elif (edad_usuaria>=18 and edad_usuaria<=65):\n",
    "    print(\" Eres una adulta\")\n",
    "else:\n",
    "     print(\" Eres una adulta mayor\")"
   ]
  },
  {
   "cell_type": "code",
   "execution_count": 26,
   "metadata": {},
   "outputs": [
    {
     "name": "stdout",
     "output_type": "stream",
     "text": [
      "Recuerda debes elegir un numero del 1 al 7\n",
      "Tu numero elegido es: 7\n",
      "Hoy es Domingo\n"
     ]
    }
   ],
   "source": [
    "#6-Determino el dia de la semana\n",
    "\n",
    "#Pido usuaria ingrese un numero del 1 al 7\n",
    "numero_elegido= int(input(\"Por favor ingresa un numero del 1 al 7\"))\n",
    "\n",
    "#Me aseguro que este entre el 1 y el 7\n",
    "while numero_elegido<1 or numero_elegido >7:\n",
    "     print(\"Recuerda debes elegir un numero del 1 al 7\")\n",
    "     numero_elegido= int(input(\"Por favor ingresa un numero del 1 al 7\"))\n",
    "\n",
    "#Le informo que numero eligio\n",
    "print (\"Tu numero elegido es:\", numero_elegido)\n",
    "if (numero_elegido==1):\n",
    "        print(\"Hoy es Lunes\")\n",
    "elif (numero_elegido==2):\n",
    "        print(\"Hoy es Martes\")\n",
    "elif (numero_elegido==3):\n",
    "        print(\"Hoy es Miercoles\")\n",
    "elif (numero_elegido==4):\n",
    "        print(\"Hoy es Jueves\")\n",
    "elif (numero_elegido==5):\n",
    "        print(\"Hoy es Viernes\")\n",
    "elif (numero_elegido==6):\n",
    "        print(\"Hoy es Sabado\")\n",
    "elif (numero_elegido==7):\n",
    "        print(\"Hoy es Domingo\")\n",
    "\n",
    "\n"
   ]
  },
  {
   "cell_type": "code",
   "execution_count": null,
   "metadata": {},
   "outputs": [
    {
     "name": "stdout",
     "output_type": "stream",
     "text": [
      "El número es: 71\n",
      "Haz elegido el numero: 80\n",
      "El número aleatorio es menor al numero que elegiste. Intenta de nuevo.\n",
      "Haz elegido el numero: 71\n",
      "Muy bien! Adivinaste! Lo intentaste: 2 veces\n"
     ]
    }
   ],
   "source": [
    "#Juego de adivinanza\n",
    "import random\n",
    "numero_aleatorio = random.randint(1,100)\n",
    "\n",
    "#imprimo valor solo para probar // quitar luego de probar juego\n",
    "print(\"shhh no digas nada, pero el número es:\", numero_aleatorio)\n",
    "\n",
    "cantidad_intentos = 0\n",
    "\n",
    "while True:\n",
    "    usuario_eleccion= int(input(\"Por favor ingresa un numero del 1 al 100\"))\n",
    "    print(\"Haz elegido el numero:\", usuario_eleccion)\n",
    "    cantidad_intentos +=1\n",
    "\n",
    "    if (cantidad_intentos==1 and usuario_eleccion == numero_aleatorio):\n",
    "        print(\"GANASTE EN EL PRIMER INTENTO!\")\n",
    "        break\n",
    "    elif (usuario_eleccion > numero_aleatorio) :\n",
    "        print(\"El número aleatorio es menor al numero que elegiste. Intenta de nuevo.\")\n",
    "    elif (usuario_eleccion < numero_aleatorio) :\n",
    "        print(\"El número aleatorio es mayor al numero que elegiste. Intenta de nuevo.\")\n",
    "    elif (usuario_eleccion == numero_aleatorio) :\n",
    "        print(\"Muy bien! Adivinaste!\", \"Lo intentaste:\", cantidad_intentos, \"veces\")\n",
    "        break        "
   ]
  }
 ],
 "metadata": {
  "kernelspec": {
   "display_name": "Python 3",
   "language": "python",
   "name": "python3"
  },
  "language_info": {
   "codemirror_mode": {
    "name": "ipython",
    "version": 3
   },
   "file_extension": ".py",
   "mimetype": "text/x-python",
   "name": "python",
   "nbconvert_exporter": "python",
   "pygments_lexer": "ipython3",
   "version": "3.9.6"
  }
 },
 "nbformat": 4,
 "nbformat_minor": 2
}
