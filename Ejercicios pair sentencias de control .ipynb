{
 "cells": [
  {
   "cell_type": "code",
   "execution_count": 2,
   "metadata": {},
   "outputs": [
    {
     "name": "stdout",
     "output_type": "stream",
     "text": [
      "El número es negativo.\n"
     ]
    }
   ],
   "source": [
    "#1-Verificar si un número es positivo, negativo o cero\n",
    "x=-2\n",
    "if x > 0:\n",
    "    print(\"El número es positivo.\")\n",
    "elif x < 0:\n",
    "    print(\"El número es negativo.\")\n",
    "else:\n",
    "    print(\"El número es cero.\")"
   ]
  },
  {
   "cell_type": "code",
   "execution_count": 3,
   "metadata": {},
   "outputs": [
    {
     "name": "stdout",
     "output_type": "stream",
     "text": [
      "El número es impar.\n"
     ]
    }
   ],
   "source": [
    "#2-Verificar si un número es par o impar\n",
    "x=11\n",
    "if x %2 == 0:\n",
    "    print(\"El número es par.\")\n",
    "else:\n",
    "    print(\"El número es impar.\")"
   ]
  },
  {
   "cell_type": "code",
   "execution_count": null,
   "metadata": {},
   "outputs": [],
   "source": [
    "#3-Verificar si un estudiante aprobó o suspendió un examen\n",
    "calificacion=70\n",
    "if calificacion >= 60:\n",
    "    print(\"Haz aprobado\")\n",
    "else:\n",
    "    print(\"Sigue estudiando. No te rindas!\")"
   ]
  },
  {
   "cell_type": "code",
   "execution_count": 7,
   "metadata": {},
   "outputs": [
    {
     "name": "stdout",
     "output_type": "stream",
     "text": [
      "numero 2 es mayor al numero 1\n"
     ]
    }
   ],
   "source": [
    "#4-Calcular el máximo entre dos números\n",
    "numero1=10\n",
    "numero2=20\n",
    "if numero1>numero2:\n",
    "    print(\"El numero 1 es mayor al numero 2\")\n",
    "elif numero2>numero1:\n",
    "    print (\"numero 2 es mayor al numero 1\")\n",
    "elif numero1==numero2:\n",
    "    print(\"los numero son iguales\")\n"
   ]
  },
  {
   "cell_type": "code",
   "execution_count": 14,
   "metadata": {},
   "outputs": [
    {
     "name": "stdout",
     "output_type": "stream",
     "text": [
      "tu tienes una consonante\n"
     ]
    }
   ],
   "source": [
    "#5-Verificar si una letra es una vocal o una consonante\n",
    "letra= \"z\"\n",
    "vocales = (\"a\",\"e\",\"i\",\"o\",\"u\")\n",
    "if letra in vocales:\n",
    "    print (\"tu tienes una vocal\")\n",
    "else:\n",
    "    print(\"tu tienes una consonante\")\n"
   ]
  },
  {
   "cell_type": "code",
   "execution_count": 19,
   "metadata": {},
   "outputs": [
    {
     "name": "stdout",
     "output_type": "stream",
     "text": [
      "El total de tu compra es: 180.0\n"
     ]
    }
   ],
   "source": [
    "#6-Calcular el descuento en una compra según el monto total\n",
    "total_compra= 200\n",
    "descuento10=total_compra*0.10\n",
    "precio_final=total_compra-descuento10\n",
    "\n",
    "if total_compra >= 100:\n",
    "    print(\"El total de tu compra es:\", precio_final)\n",
    "else:\n",
    "    print(\"El total de tu compra es:\", total_compra)\n"
   ]
  },
  {
   "cell_type": "code",
   "execution_count": 21,
   "metadata": {},
   "outputs": [
    {
     "name": "stdout",
     "output_type": "stream",
     "text": [
      "El año 1910 no es bisiesto.\n"
     ]
    }
   ],
   "source": [
    "#7-Verificar si un año es bisiesto o no\n",
    "#un año es bisiesto si es divisible entre 4, excepto aquellos divisibles entre 100 pero no entre 400\n",
    "year=1910\n",
    "if (year % 4 == 0 and year % 100 != 0) or (year % 400 == 0):\n",
    "    print(\"El año\",year, \" es bisiesto.\")\n",
    "else:\n",
    "    print(\"El año\",year, \"no es bisiesto.\")"
   ]
  },
  {
   "cell_type": "code",
   "execution_count": null,
   "metadata": {},
   "outputs": [
    {
     "name": "stdout",
     "output_type": "stream",
     "text": [
      " Eres un Adulto Mayor\n"
     ]
    }
   ],
   "source": [
    "#8-Asignar una categoría a una edad\n",
    "#si la edad es menor de 18, la categoría es \"Menor de edad\"; \n",
    "# si la edad está entre 18 y 64 (incluyendo ambos), la categoría es \"Adulto\"; \n",
    "# de lo contrario, la categoría es \"Adulto mayor\".\n",
    "``\n",
    "edad=65\n",
    "if (edad<18):\n",
    "    print(\"Eres Menor de edad\")\n",
    "elif (edad>=18 and edad<=64):\n",
    "    print(\" Eres un Adulto\")\n",
    "else:\n",
    "     print(\" Eres un Adulto Mayor\")\n"
   ]
  },
  {
   "cell_type": "code",
   "execution_count": 1,
   "metadata": {},
   "outputs": [
    {
     "name": "stdout",
     "output_type": "stream",
     "text": [
      "tu triangulo NO cumple con el teorema de Pitagoras\n"
     ]
    }
   ],
   "source": [
    "#Verificar si tres números forman un triángulo rectángulo\n",
    "#si se cumple el teorema de Pitágoras\n",
    " \n",
    "LadoA=20\n",
    "LadoB=30\n",
    "LadoC=40\n",
    "\n",
    "#condicion de pitagoras:\n",
    "if (LadoA == (LadoA** 2 + LadoB ** 2)**0.5):\n",
    "    print(\"tu triangulo cumple con el teorema de Pitagoras\")\n",
    "else:\n",
    "    print(\"tu triangulo NO cumple con el teorema de Pitagoras\")"
   ]
  },
  {
   "cell_type": "code",
   "execution_count": null,
   "metadata": {},
   "outputs": [],
   "source": []
  }
 ],
 "metadata": {
  "kernelspec": {
   "display_name": "Python 3",
   "language": "python",
   "name": "python3"
  },
  "language_info": {
   "codemirror_mode": {
    "name": "ipython",
    "version": 3
   },
   "file_extension": ".py",
   "mimetype": "text/x-python",
   "name": "python",
   "nbconvert_exporter": "python",
   "pygments_lexer": "ipython3",
   "version": "3.9.6"
  }
 },
 "nbformat": 4,
 "nbformat_minor": 2
}
