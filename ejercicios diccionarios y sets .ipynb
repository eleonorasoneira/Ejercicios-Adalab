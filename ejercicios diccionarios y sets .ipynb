{
 "cells": [
  {
   "cell_type": "code",
   "execution_count": 30,
   "metadata": {},
   "outputs": [],
   "source": [
    "#crear dicionario festivo\n",
    "festivos = {\"Año Nuevo\": \"1/1\", \"Epifanía del Señor\" : \"6/1\", \"Viernes Santo\": \"15/4\", \"Asunción de la Virgen\": \"15/8\", \"Fiesta Nacional de España\":  \"12/10\",  \"Todos los Santos\" : \"1/11\",  \"Día de la Constitución Española\" : \"6/12\", \"Inmaculada Concepción\" : \"8/12\" }"
   ]
  },
  {
   "cell_type": "code",
   "execution_count": null,
   "metadata": {},
   "outputs": [],
   "source": [
    "#crear el diccionario monarcasmonarcas = {\"Bélgica\" : \"Philippe\", \"Dinamarca\": \"Margrethe II\", \"Holanda\": \"Beatrix\", \"Noruega\": \"Harald V\", \"España\": \"Felipe VI\", \"Reino Unido\": \"Carlos III\"}\n"
   ]
  },
  {
   "cell_type": "code",
   "execution_count": 16,
   "metadata": {},
   "outputs": [
    {
     "name": "stdout",
     "output_type": "stream",
     "text": [
      "¿Qué festivo hay el 15/04? 3.75\n"
     ]
    }
   ],
   "source": [
    "print (\"¿Qué festivo hay el 15/04?\", festivos.get(\"Viernes Santo\"))"
   ]
  },
  {
   "cell_type": "code",
   "execution_count": null,
   "metadata": {},
   "outputs": [],
   "source": [
    "#La reina 'Beatrix' abdicó, ahora es el rey 'Willem-Alexander'. Actualiza el dict.\n",
    "festivos[\"Holanda\"] = \"Willem-Alexander\""
   ]
  },
  {
   "cell_type": "code",
   "execution_count": 19,
   "metadata": {},
   "outputs": [
    {
     "name": "stdout",
     "output_type": "stream",
     "text": [
      "{'Bélgica': 'Philippe', 'Dinamarca': 'Margrethe II', 'Holanda': 'Beatrix', 'Noruega': 'Harald V', 'España': 'Felipe VI', 'Reino Unido': 'Carlos III', 'Luxemburgo': 'Henri'}\n"
     ]
    }
   ],
   "source": [
    "#El rey de Luxemburgo se llama Henri. Añadelo al dict usando .update()\n",
    "monarcas.update({\"Luxemburgo\": \"Henri\"})\n",
    "print(monarcas)"
   ]
  },
  {
   "cell_type": "code",
   "execution_count": 20,
   "metadata": {},
   "outputs": [
    {
     "name": "stdout",
     "output_type": "stream",
     "text": [
      "El diccionario tiene 7 países.\n"
     ]
    }
   ],
   "source": [
    "#¿Cuántos países están definidos en monarcas?\n",
    "numero_de_paises = len(monarcas)\n",
    "print(f\"El diccionario tiene {numero_de_paises} países.\")"
   ]
  },
  {
   "cell_type": "code",
   "execution_count": 21,
   "metadata": {},
   "outputs": [
    {
     "data": {
      "text/plain": [
       "False"
      ]
     },
     "execution_count": 21,
     "metadata": {},
     "output_type": "execute_result"
    }
   ],
   "source": [
    "#¿Es 'Monaco' uno de ellos?\n",
    "\"monaco\" in monarcas"
   ]
  },
  {
   "cell_type": "code",
   "execution_count": 22,
   "metadata": {},
   "outputs": [
    {
     "data": {
      "text/plain": [
       "False"
      ]
     },
     "execution_count": 22,
     "metadata": {},
     "output_type": "execute_result"
    }
   ],
   "source": [
    "#¿Es verdad que nos olvidamos de poner 'Suecia'? \n",
    "\"suecia\" in monarcas"
   ]
  },
  {
   "cell_type": "code",
   "execution_count": 23,
   "metadata": {},
   "outputs": [
    {
     "name": "stdout",
     "output_type": "stream",
     "text": [
      "['Bélgica', 'Dinamarca', 'Holanda', 'Noruega', 'España', 'Reino Unido', 'Luxemburgo']\n"
     ]
    }
   ],
   "source": [
    "#Saca una lista de todos los países en el dict monarcas\n",
    "lista_de_paises = list(monarcas.keys())\n",
    "print (lista_de_paises)"
   ]
  },
  {
   "cell_type": "code",
   "execution_count": null,
   "metadata": {},
   "outputs": [
    {
     "name": "stdout",
     "output_type": "stream",
     "text": [
      "['Año Nuevo', 'Epifanía del Señor', 'Viernes Santo', 'Asunción de la Virgen', 'Fiesta Nacional de España', 'Todos los Santos', 'Día de la Constitución Española', 'Inmaculada Concepción', 'Holanda']\n"
     ]
    }
   ],
   "source": [
    "#Saca una lista de los nombres de los festivos.\n",
    "lista_de_festivos = list(festivos.keys())\n",
    "print (lista_de_festivos)"
   ]
  },
  {
   "cell_type": "code",
   "execution_count": 25,
   "metadata": {},
   "outputs": [
    {
     "name": "stdout",
     "output_type": "stream",
     "text": [
      "{'Año Nuevo': 1.0, 'Epifanía del Señor': 6.0, 'Viernes Santo': 3.75, 'Asunción de la Virgen': 1.875, 'Fiesta Nacional de España': 1.2, 'Todos los Santos': 0.09090909090909091, 'Día de la Constitución Española': 0.5, 'Inmaculada Concepción': 0.6666666666666666, 'Holanda': 'Willem-Alexander'}\n"
     ]
    }
   ],
   "source": [
    "#Imprime el diccionario de festivos.\n",
    "print (festivos)"
   ]
  },
  {
   "cell_type": "code",
   "execution_count": 31,
   "metadata": {},
   "outputs": [
    {
     "name": "stdout",
     "output_type": "stream",
     "text": [
      "[('Año Nuevo', '1/1'), ('Epifanía del Señor', '6/1'), ('Viernes Santo', '15/4'), ('Asunción de la Virgen', '15/8'), ('Fiesta Nacional de España', '12/10'), ('Todos los Santos', '1/11'), ('Día de la Constitución Española', '6/12'), ('Inmaculada Concepción', '8/12')]\n"
     ]
    }
   ],
   "source": [
    "#Imprime una lista de tuplas de todos los elementos que hay en festivos.\n",
    "tuplas_festivos = list(festivos.items())\n",
    "print(tuplas_festivos)"
   ]
  },
  {
   "cell_type": "code",
   "execution_count": 32,
   "metadata": {},
   "outputs": [
    {
     "name": "stdout",
     "output_type": "stream",
     "text": [
      "{'Bélgica': 'Philippe', 'Dinamarca': 'Margrethe II', 'Holanda': 'Beatrix', 'Noruega': 'Harald V', 'España': 'Felipe VI', 'Reino Unido': 'Carlos III', 'Luxemburgo': 'Henri'}\n"
     ]
    }
   ],
   "source": [
    "#Copia monarcas a monarcas2010\n",
    "monarcas2010 = monarcas.copy()\n",
    "print(monarcas2010)"
   ]
  },
  {
   "cell_type": "code",
   "execution_count": 36,
   "metadata": {},
   "outputs": [
    {
     "name": "stdout",
     "output_type": "stream",
     "text": [
      "{'Bélgica': 'Philippe', 'Dinamarca': 'Margrethe II', 'Holanda': 'Beatrix', 'Noruega': 'Harald V', 'Reino Unido': 'Carlos III', 'Luxemburgo': 'Henri'}\n"
     ]
    }
   ],
   "source": [
    "#Quita España de monarcas2010.\n",
    "monarcas2010.pop(\"España\", \"Felipe VI\")\n",
    "print(monarcas2010)"
   ]
  },
  {
   "cell_type": "code",
   "execution_count": 40,
   "metadata": {},
   "outputs": [
    {
     "name": "stdout",
     "output_type": "stream",
     "text": [
      "{'Bélgica': 'Philippe', 'Dinamarca': 'Margrethe II', 'Holanda': 'Beatrix', 'Noruega': 'Harald V', 'Reino Unido': 'Carlos III'}\n"
     ]
    }
   ],
   "source": [
    "#Quita el último elemento de monarcas2010\n",
    "monarcas2010.popitem()\n",
    "print(monarcas2010)"
   ]
  },
  {
   "cell_type": "code",
   "execution_count": 41,
   "metadata": {},
   "outputs": [
    {
     "name": "stdout",
     "output_type": "stream",
     "text": [
      "{}\n"
     ]
    }
   ],
   "source": [
    "#Vacia el dict monarcas2010\n",
    "monarcas2010.clear()\n",
    "print(monarcas2010)"
   ]
  },
  {
   "cell_type": "code",
   "execution_count": 53,
   "metadata": {},
   "outputs": [],
   "source": [
    "#¿Qué festivo hay el 06/01?"
   ]
  },
  {
   "cell_type": "code",
   "execution_count": null,
   "metadata": {},
   "outputs": [],
   "source": [
    "#Obten el festivo que haya el 08/03, y en su defecto devuélve 'Día Internacional de la Mujer'."
   ]
  },
  {
   "cell_type": "code",
   "execution_count": null,
   "metadata": {},
   "outputs": [],
   "source": [
    "#Obten el festivo que haya el 31/11, y si no existe crea un par de clave-valor nuevo con el valor de 'Todos los Santos'."
   ]
  }
 ],
 "metadata": {
  "kernelspec": {
   "display_name": "Python 3",
   "language": "python",
   "name": "python3"
  },
  "language_info": {
   "codemirror_mode": {
    "name": "ipython",
    "version": 3
   },
   "file_extension": ".py",
   "mimetype": "text/x-python",
   "name": "python",
   "nbconvert_exporter": "python",
   "pygments_lexer": "ipython3",
   "version": "3.9.6"
  }
 },
 "nbformat": 4,
 "nbformat_minor": 2
}
