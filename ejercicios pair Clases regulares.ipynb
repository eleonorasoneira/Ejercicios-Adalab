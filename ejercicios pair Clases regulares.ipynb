{
 "cells": [
  {
   "cell_type": "code",
   "execution_count": null,
   "metadata": {},
   "outputs": [
    {
     "name": "stdout",
     "output_type": "stream",
     "text": [
      "Los numeros de telefono con el formato (XXX) XXX-XXXX son: ['(123) 456-7890', '(555) 238-1987']\n"
     ]
    }
   ],
   "source": [
    "import re\n",
    "\n",
    "#1 - Validar un número de teléfono.\n",
    "#formato (XXX) XXX-XXXX.\n",
    "\n",
    "lista_telefonos = [\"(123) 456-7890\", \"178 1890-733\", \"(555) 238-1987\", \"(123) 4560-7890\", \"(ABC) 098-1111\"]\n",
    "\n",
    "patron_telefonos = re.match(r\"^\\(\\d{3}\\) \\d{3}-\\d{4}$\")\n",
    "\n",
    "#^ marca el inicio de la cadena.\n",
    "#\\d{3} indica exactamente tres dígitos.\n",
    "# ponemos el guion -\n",
    "#$ para asegurarnos de que la cadena termine exactamente donde termina nuestro patrón, sin permitir caracteres adicionales.\n",
    "\n",
    "telefonos_validados = [telefono for telefono in lista_telefonos if (patron_telefonos, telefono)]\n",
    "\n",
    "print(\"Los numeros de telefono con el formato (XXX) XXX-XXXX son:\", telefonos_validados)\n"
   ]
  },
  {
   "cell_type": "code",
   "execution_count": 27,
   "metadata": {},
   "outputs": [
    {
     "name": "stdout",
     "output_type": "stream",
     "text": [
      " el correo electronico dentro del texto es: ['user@example.com', 'john.doe@email.com']\n"
     ]
    }
   ],
   "source": [
    "import re\n",
    "#Buscar todas las direcciones de correo electrónico en un texto.\n",
    "\n",
    "texto = \"Mi correo es user@example.com. Contacta conmigo en john.doe@email.com\"\n",
    "\n",
    "patron_email = r\"[a-z.]+@[a-z]+\\.[a-z]{3}\"\n",
    "\n",
    "# ^ le decimos que el texto si o si tiene que empezar de la siguiente forma\n",
    "# [a-z.]  minusculas,, y el caracter .\n",
    "# +@ mas el arroba\n",
    "# [a-z] minusculas\n",
    "# +\\. es el punto del dominio\n",
    "# [a-z]{3} que tenga al menos 3 caracteres que pueden ser letras minuscualas\n",
    "#$ para asegurarnos de que la cadena termine exactamente donde termina nuestro patrón, sin permitir caracteres adicionales.\n",
    "\n",
    "email_validado = re.findall(patron_email, texto)\n",
    "\n",
    "print (\" el correo electronico dentro del texto es:\", email_validado)\n",
    "\n"
   ]
  },
  {
   "cell_type": "code",
   "execution_count": null,
   "metadata": {},
   "outputs": [],
   "source": []
  }
 ],
 "metadata": {
  "kernelspec": {
   "display_name": "Python 3",
   "language": "python",
   "name": "python3"
  },
  "language_info": {
   "codemirror_mode": {
    "name": "ipython",
    "version": 3
   },
   "file_extension": ".py",
   "mimetype": "text/x-python",
   "name": "python",
   "nbconvert_exporter": "python",
   "pygments_lexer": "ipython3",
   "version": "3.9.6"
  }
 },
 "nbformat": 4,
 "nbformat_minor": 2
}
