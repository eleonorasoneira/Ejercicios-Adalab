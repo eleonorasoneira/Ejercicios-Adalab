{
 "cells": [
  {
   "cell_type": "code",
   "execution_count": null,
   "metadata": {},
   "outputs": [],
   "source": [
    "# (1) Crear un diccionario vacío\n",
    "diccionario_vacio = {}"
   ]
  },
  {
   "cell_type": "code",
   "execution_count": 26,
   "metadata": {},
   "outputs": [
    {
     "name": "stdout",
     "output_type": "stream",
     "text": [
      "{'Shakira': 47, 'Carol G': 33, 'Soledad Pastorutti': 44, 'Rosalia': 32, 'Jennifer Lopez': 55}\n"
     ]
    }
   ],
   "source": [
    "# (2) Crear un diccionario con elementos\n",
    "artistas_latinas = {\"Shakira\" : 47, \"Carol G\" : 33, \"Soledad Pastorutti\": 44, \"Rosalia\": 32, \"Jennifer Lopez\" : 55  }\n",
    "print (artistas_latinas)"
   ]
  },
  {
   "cell_type": "code",
   "execution_count": null,
   "metadata": {},
   "outputs": [
    {
     "name": "stdout",
     "output_type": "stream",
     "text": [
      "Tu artista elegida es: Rosalia\n",
      "y ella tiene: 32 años\n"
     ]
    }
   ],
   "source": [
    "# (3) Usando el diccionario creado en el paso anterior, obtén el valor correspondiente a una clave específica que indique el usuario (debereis usar la función input() para preguntar al usuario).\n",
    "artista_elegida = input(f\"Que artista latina te gusta mas? {list(artistas_latinas.keys())}\")\n",
    "print(\"Tu artista elegida es:\", artista_elegida)\n",
    "print (\"y ella tiene:\",artistas_latinas.get(artista_elegida), \"años\")"
   ]
  },
  {
   "cell_type": "code",
   "execution_count": 28,
   "metadata": {},
   "outputs": [
    {
     "name": "stdout",
     "output_type": "stream",
     "text": [
      "{'Shakira': 47, 'Carol G': 33, 'Soledad Pastorutti': 44, 'Rosalia': 32, 'Jennifer Lopez': 55, 'Maria Becerra': '24'}\n"
     ]
    }
   ],
   "source": [
    "# (4) Usando el diccionario creado en el ejercicio 2, agrega un nuevo par clave-valor. \n",
    "artistas_latinas[\"Maria Becerra\"] = \"24\"\n",
    "print(artistas_latinas)"
   ]
  },
  {
   "cell_type": "code",
   "execution_count": 34,
   "metadata": {},
   "outputs": [
    {
     "name": "stdout",
     "output_type": "stream",
     "text": [
      "{'Shakira': 47, 'Carol G': 33, 'Soledad Pastorutti': 44, 'Rosalia': 32, 'Paulina Rubio': 53, 'Maria Becerra': 25}\n"
     ]
    }
   ],
   "source": [
    "#(5)Actualizar el valor de una clave en un diccionario. UPDATE\n",
    "artistas_latinas.update({\"Maria Becerra\":25})\n",
    "print(artistas_latinas)"
   ]
  },
  {
   "cell_type": "code",
   "execution_count": null,
   "metadata": {},
   "outputs": [
    {
     "name": "stdout",
     "output_type": "stream",
     "text": [
      "La artista que elegiste para eliminar de la lista es: Jennifer Lopez\n",
      "La lista ha quedado asi: {'Shakira': 47, 'Carol G': 33, 'Soledad Pastorutti': 44, 'Rosalia': 32, 'Maria Becerra': 25}\n"
     ]
    }
   ],
   "source": [
    "#(6) Eliminar un par clave-valor de un diccionario\n",
    "artista_elegida = input(f\"Que artista latina te gustaria eliminar de esta lista? {list(artistas_latinas.keys())}\")\n",
    "print(\"La artista que elegiste para eliminar de la lista es:\", artista_elegida)\n",
    "artistas_latinas.pop(artista_elegida)\n",
    "print (\"La lista ha quedado asi:\",artistas_latinas)"
   ]
  },
  {
   "cell_type": "code",
   "execution_count": 12,
   "metadata": {},
   "outputs": [
    {
     "name": "stdout",
     "output_type": "stream",
     "text": [
      "Tu artista latina preferida es: Rosalia . Ahora seamos si tu artista esta o no en nuestra lista:\n"
     ]
    },
    {
     "data": {
      "text/plain": [
       "True"
      ]
     },
     "execution_count": 12,
     "metadata": {},
     "output_type": "execute_result"
    }
   ],
   "source": [
    "#(7)Verificar si una clave está presente en un diccionario\n",
    "artista_preferida = input(f\"Que artista latina es tu preferida?\")\n",
    "print(\"Tu artista latina preferida es:\", artista_preferida , \". Ahora seamos si tu artista esta o no en nuestra lista:\")\n",
    "artista_preferida in artistas_latinas\n"
   ]
  },
  {
   "cell_type": "code",
   "execution_count": 16,
   "metadata": {},
   "outputs": [
    {
     "name": "stdout",
     "output_type": "stream",
     "text": [
      "Estas son las artistas latinas mas escuchadas: ['Shakira', 'Carol G', 'Soledad Pastorutti', 'Rosalia', 'Maria Becerra']\n"
     ]
    }
   ],
   "source": [
    "#(8)Obtener una lista de todas las claves de un diccionario\n",
    "print (\"Estas son las artistas latinas mas escuchadas:\",list(artistas_latinas.keys()))"
   ]
  },
  {
   "cell_type": "code",
   "execution_count": 17,
   "metadata": {},
   "outputs": [
    {
     "name": "stdout",
     "output_type": "stream",
     "text": [
      "Estas son las edades de las artistas mas escuchadas: [47, 33, 44, 32, 25]\n"
     ]
    }
   ],
   "source": [
    "#(9)Obtener una lista de todos los valores de un diccionario\n",
    "print (\"Estas son las edades de las artistas mas escuchadas:\",list(artistas_latinas.values()))"
   ]
  },
  {
   "cell_type": "code",
   "execution_count": 35,
   "metadata": {},
   "outputs": [
    {
     "data": {
      "text/plain": [
       "53"
      ]
     },
     "execution_count": 35,
     "metadata": {},
     "output_type": "execute_result"
    }
   ],
   "source": [
    "#(10) Utilizar el método setdefault() para establecer un valor predeterminado si la clave no existe\n",
    "artistas_latinas.setdefault(\"Paulina Rubio\", 53)\n",
    "##NO ESTOY SEGURA SI ESTA BIEN"
   ]
  },
  {
   "cell_type": "code",
   "execution_count": 36,
   "metadata": {},
   "outputs": [
    {
     "name": "stdout",
     "output_type": "stream",
     "text": [
      "{'Shakira': 47, 'Carol G': 33, 'Soledad Pastorutti': 44, 'Rosalia': 32, 'Paulina Rubio': 53}\n"
     ]
    }
   ],
   "source": [
    "#(11)Manipulación de un diccionario utilizando .pop() --> elimina un valor pasándole la clave\n",
    "artistas_latinas.pop(\"Maria Becerra\")\n",
    "print (artistas_latinas)"
   ]
  },
  {
   "cell_type": "code",
   "execution_count": 37,
   "metadata": {},
   "outputs": [
    {
     "name": "stdout",
     "output_type": "stream",
     "text": [
      "{'Shakira': 47, 'Carol G': 33, 'Soledad Pastorutti': 44, 'Rosalia': 32}\n"
     ]
    }
   ],
   "source": [
    "#(11)Manipulación de un diccionario utilizando .popitem() --> elimina el ultimo clave-valor agregado\n",
    "artistas_latinas.popitem()\n",
    "print (artistas_latinas)"
   ]
  },
  {
   "cell_type": "code",
   "execution_count": 39,
   "metadata": {},
   "outputs": [],
   "source": [
    "# -------------------------------------------# Ejercicios sets #----------------------------------------------\n",
    "#(1)Crear un conjunto vacío. Descripción: Crea un conjunto vacío sin ningún elemento.\n",
    "set_vacio = {}"
   ]
  },
  {
   "cell_type": "code",
   "execution_count": 50,
   "metadata": {},
   "outputs": [
    {
     "name": "stdout",
     "output_type": "stream",
     "text": [
      "{'teclado gamer', 'patineta electrica', 'nintendo switch', 'libro', 'perfume'}\n"
     ]
    }
   ],
   "source": [
    "# (2)Descripción: Crea un conjunto con elementos predefinidos.\n",
    "regalos_navidad = {\"nintendo switch\", \"perfume\", \"teclado gamer\", \"libro\", \"patineta electrica\" }\n",
    "print(regalos_navidad)"
   ]
  },
  {
   "cell_type": "code",
   "execution_count": 51,
   "metadata": {},
   "outputs": [
    {
     "name": "stdout",
     "output_type": "stream",
     "text": [
      "{'teclado gamer', 'patineta electrica', 'nintendo switch', 'tablet', 'libro', 'perfume'}\n"
     ]
    }
   ],
   "source": [
    "#(3)Agregar elementos a un conjunto. Un elemento solo. .add() --> para añadir un elemento más, SOLO UNO\n",
    "regalos_navidad.add(\"tablet\")\n",
    "print(regalos_navidad)"
   ]
  },
  {
   "cell_type": "code",
   "execution_count": 52,
   "metadata": {},
   "outputs": [
    {
     "name": "stdout",
     "output_type": "stream",
     "text": [
      "{'perfume', 'patineta electrica', 'ticket concierto', 'nintendo switch', 'volante gamer', 'tickets viaje', 'libro', 'teclado gamer', 'tablet'}\n"
     ]
    }
   ],
   "source": [
    "#(3)Agregar elementos a un conjunto. Un par de elementos a la vez. .update() --> para pasarle una lista de elementos a añadir\n",
    "regalos_navidad.update([\"volante gamer\", \"tickets viaje\", \"ticket concierto\"])\n",
    "print(regalos_navidad)"
   ]
  },
  {
   "cell_type": "code",
   "execution_count": 53,
   "metadata": {},
   "outputs": [
    {
     "name": "stdout",
     "output_type": "stream",
     "text": [
      "El regalo que elegiste no recibir es: perfume\n",
      "Vas a recibir uno de los siguientes regalos: {'patineta electrica', 'ticket concierto', 'nintendo switch', 'volante gamer', 'tickets viaje', 'libro', 'teclado gamer', 'tablet'}\n"
     ]
    }
   ],
   "source": [
    "#(4) Eliminar un elemento de un conjunto, indicado por el usuario.\n",
    "regalo_eliminado = input(f\"Que regalo crees NO te gustaria recibir? (Opciones: {regalos_navidad}) \")\n",
    "print(\"El regalo que elegiste no recibir es:\", regalo_eliminado)\n",
    "\n",
    "regalos_navidad.remove(regalo_eliminado)\n",
    "print (\"Vas a recibir uno de los siguientes regalos:\",regalos_navidad)"
   ]
  },
  {
   "cell_type": "code",
   "execution_count": 57,
   "metadata": {},
   "outputs": [
    {
     "name": "stdout",
     "output_type": "stream",
     "text": [
      "False\n"
     ]
    }
   ],
   "source": [
    "#(5)verifica si un elemento específico está presente en él.\n",
    "print(\"jeans\" in regalos_navidad)"
   ]
  },
  {
   "cell_type": "code",
   "execution_count": 65,
   "metadata": {},
   "outputs": [
    {
     "data": {
      "text/plain": [
       "{'Album de fotos',\n",
       " 'Mate personalizado',\n",
       " 'Taza con foto',\n",
       " 'cuadro con fotografias',\n",
       " 'libro',\n",
       " 'nintendo switch',\n",
       " 'patineta electrica',\n",
       " 'perfume',\n",
       " 'teclado gamer'}"
      ]
     },
     "execution_count": 65,
     "metadata": {},
     "output_type": "execute_result"
    }
   ],
   "source": [
    "#(6) Realizar una unión de conjuntos. Descripción: Dados dos conjuntos, realiza una unión de ellos.\n",
    "regalos_navidad_opciones1 = {\"nintendo switch\", \"perfume\", \"teclado gamer\", \"libro\", \"patineta electrica\" }\n",
    "regalos_navidad_opciones2 = {\"Taza con foto\", \"Album de fotos\", \"cuadro con fotografias\", \"Mate personalizado\", \"perfume\", \"teclado gamer\" }\n",
    "regalos_navidad_opciones1|regalos_navidad_opciones2 "
   ]
  },
  {
   "cell_type": "code",
   "execution_count": 66,
   "metadata": {},
   "outputs": [
    {
     "data": {
      "text/plain": [
       "{'perfume', 'teclado gamer'}"
      ]
     },
     "execution_count": 66,
     "metadata": {},
     "output_type": "execute_result"
    }
   ],
   "source": [
    "#Realizar una intersección de conjuntos\n",
    "regalos_navidad_opciones1 & regalos_navidad_opciones2 "
   ]
  },
  {
   "cell_type": "code",
   "execution_count": 67,
   "metadata": {},
   "outputs": [
    {
     "data": {
      "text/plain": [
       "{'libro', 'nintendo switch', 'patineta electrica'}"
      ]
     },
     "execution_count": 67,
     "metadata": {},
     "output_type": "execute_result"
    }
   ],
   "source": [
    "#Realizar una diferencia de conjuntos\n",
    "regalos_navidad_opciones1 - regalos_navidad_opciones2 "
   ]
  },
  {
   "cell_type": "code",
   "execution_count": 71,
   "metadata": {},
   "outputs": [
    {
     "data": {
      "text/plain": [
       "True"
      ]
     },
     "execution_count": 71,
     "metadata": {},
     "output_type": "execute_result"
    }
   ],
   "source": [
    "#Verificar si un conjunto es subconjunto de otro\n",
    "regalos_navidad_opciones1 <= regalos_navidad_opciones2 "
   ]
  }
 ],
 "metadata": {
  "kernelspec": {
   "display_name": "Python 3",
   "language": "python",
   "name": "python3"
  },
  "language_info": {
   "codemirror_mode": {
    "name": "ipython",
    "version": 3
   },
   "file_extension": ".py",
   "mimetype": "text/x-python",
   "name": "python",
   "nbconvert_exporter": "python",
   "pygments_lexer": "ipython3",
   "version": "3.9.6"
  }
 },
 "nbformat": 4,
 "nbformat_minor": 2
}
