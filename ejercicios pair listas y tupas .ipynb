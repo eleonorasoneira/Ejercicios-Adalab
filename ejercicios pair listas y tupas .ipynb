{
 "cells": [
  {
   "cell_type": "code",
   "execution_count": 2,
   "metadata": {},
   "outputs": [],
   "source": [
    "#1duplica cada elemento en la lista\n",
    "lista = [2, 4, 6, 8]\n",
    "lista_duplicada = lista.copy()\n"
   ]
  },
  {
   "cell_type": "code",
   "execution_count": 11,
   "metadata": {},
   "outputs": [
    {
     "data": {
      "text/plain": [
       "[2, 4, 6, 8]"
      ]
     },
     "execution_count": 11,
     "metadata": {},
     "output_type": "execute_result"
    }
   ],
   "source": [
    "lista_duplicada"
   ]
  },
  {
   "cell_type": "code",
   "execution_count": 3,
   "metadata": {},
   "outputs": [],
   "source": [
    "#2Combinar dos listas\n",
    "lista1 = [1, 2, 3]\n",
    "lista2 = [4, 5, 6]\n",
    "\n",
    "lista_combinada = lista1 + lista2"
   ]
  },
  {
   "cell_type": "code",
   "execution_count": 4,
   "metadata": {},
   "outputs": [
    {
     "name": "stdout",
     "output_type": "stream",
     "text": [
      "[1, 2, 3, 4, 5, 6]\n"
     ]
    }
   ],
   "source": [
    "print (lista_combinada)"
   ]
  },
  {
   "cell_type": "code",
   "execution_count": null,
   "metadata": {},
   "outputs": [
    {
     "name": "stdout",
     "output_type": "stream",
     "text": [
      "290\n"
     ]
    }
   ],
   "source": [
    "#3Calcular la suma de una lista de números\n",
    "gastos_del_mes = [20 , 50, 100, 120]\n",
    "total_gastos_del_mes = sum(gastos_del_mes)\n",
    "print (total_gastos_del_mes)"
   ]
  },
  {
   "cell_type": "code",
   "execution_count": null,
   "metadata": {},
   "outputs": [
    {
     "name": "stdout",
     "output_type": "stream",
     "text": [
      "120\n"
     ]
    }
   ],
   "source": [
    "#4Encontrar el valor máximo en una lista\n",
    "print (max(gastos_del_mes))"
   ]
  },
  {
   "cell_type": "code",
   "execution_count": null,
   "metadata": {},
   "outputs": [
    {
     "name": "stdout",
     "output_type": "stream",
     "text": [
      "4\n"
     ]
    }
   ],
   "source": [
    "#5Calcular la longitud de una lista\n",
    "print (len(gastos_del_mes))\n"
   ]
  },
  {
   "cell_type": "code",
   "execution_count": null,
   "metadata": {},
   "outputs": [],
   "source": [
    "#6Encontrar el índice de un elemento en una lista\n",
    "notas_evaluaciones = [7, 5, 10, 8, 4]\n",
    "valor_objetivo = 10\n",
    "\n",
    "#sin terminar!!!!!!!!!!!"
   ]
  },
  {
   "cell_type": "code",
   "execution_count": null,
   "metadata": {},
   "outputs": [
    {
     "data": {
      "text/plain": [
       "3"
      ]
     },
     "execution_count": 39,
     "metadata": {},
     "output_type": "execute_result"
    }
   ],
   "source": [
    "#7Contar ocurrencias de un elemento en una lista\n",
    "\n",
    "lista_colores = [\"rojo\", \"verde\", \"amarillo\", \"rojo\", \"azul\", \"rojo\"]\n",
    "valor_objetivo = \"rojo\"\n",
    "lista_colores.count(valor_objetivo)"
   ]
  },
  {
   "cell_type": "code",
   "execution_count": 5,
   "metadata": {},
   "outputs": [
    {
     "name": "stdout",
     "output_type": "stream",
     "text": [
      "[6, 8, 10]\n"
     ]
    }
   ],
   "source": [
    "#8-Obtener una sublista de una lista\n",
    "#crea una nueva lista que contenga los elementos desde el índice 2 hasta el índice 5 (sin incluirlo)\n",
    "#el indice es la posicion !\n",
    "lista =[2,4,6,8,10,12]\n",
    "sublista = lista[2:5]\n",
    "print (sublista)"
   ]
  },
  {
   "cell_type": "code",
   "execution_count": 6,
   "metadata": {},
   "outputs": [
    {
     "data": {
      "text/plain": [
       "12"
      ]
     },
     "execution_count": 6,
     "metadata": {},
     "output_type": "execute_result"
    }
   ],
   "source": [
    "#10-Obtener el último elemento de una lista\n",
    "lista[-1]"
   ]
  },
  {
   "cell_type": "code",
   "execution_count": 13,
   "metadata": {},
   "outputs": [
    {
     "name": "stdout",
     "output_type": "stream",
     "text": [
      "[2, 3]\n"
     ]
    }
   ],
   "source": [
    "#11-Obtener una sublista de una lista\n",
    "numeros=[1,2,3,4,5,6,7,8,9,10]\n",
    "sublista_numeros= numeros[1:3]\n",
    "print(sublista_numeros)"
   ]
  },
  {
   "cell_type": "code",
   "execution_count": 15,
   "metadata": {},
   "outputs": [
    {
     "name": "stdout",
     "output_type": "stream",
     "text": [
      "[1, 2, 3, 4, 5, 6, 7, 8, 9]\n"
     ]
    }
   ],
   "source": [
    "#12-Reemplazar un elemento en una lista\n",
    "numeros.remove(10)\n",
    "print(numeros)"
   ]
  },
  {
   "cell_type": "code",
   "execution_count": 16,
   "metadata": {},
   "outputs": [
    {
     "name": "stdout",
     "output_type": "stream",
     "text": [
      "[9, 8, 7, 6, 5, 4, 3, 2, 1]\n"
     ]
    }
   ],
   "source": [
    "#13-Obtener una lista inversa\n",
    "numeros.reverse()\n",
    "print(numeros)"
   ]
  },
  {
   "cell_type": "code",
   "execution_count": 17,
   "metadata": {},
   "outputs": [
    {
     "name": "stdout",
     "output_type": "stream",
     "text": [
      "[1, 2, 3, 4, 5, 6, 7, 8, 9]\n"
     ]
    }
   ],
   "source": [
    "#Ordenar una lista en orden ascendente\n",
    "numeros.sort()\n",
    "print (numeros)"
   ]
  },
  {
   "cell_type": "code",
   "execution_count": 21,
   "metadata": {},
   "outputs": [],
   "source": [
    "#------------BONUS-----------------\n",
    "#15-Obtener elementos pares de una lista\n"
   ]
  },
  {
   "cell_type": "code",
   "execution_count": 22,
   "metadata": {},
   "outputs": [],
   "source": [
    "#16-Obtener una sublista saltando elementos. obtén una sublista que contenga los elementos saltando de 3 en 3.\n"
   ]
  },
  {
   "cell_type": "code",
   "execution_count": 23,
   "metadata": {},
   "outputs": [],
   "source": [
    "#17-Encontrar el segundo valor máximo en una lista"
   ]
  },
  {
   "cell_type": "code",
   "execution_count": null,
   "metadata": {},
   "outputs": [],
   "source": [
    "#18-contestar la pregunta en una celda de markdown. Descripción: ¿Qué diferencia existe entre el .sort() y el sorted()"
   ]
  },
  {
   "cell_type": "code",
   "execution_count": null,
   "metadata": {},
   "outputs": [],
   "source": [
    "#19-agrega nuevos elementos utilizando tanto append como extend y observa las diferencias en el resultado final. \n",
    "# El elemento que deberéis usar para añadir a la lista original tiene que ser una lista"
   ]
  },
  {
   "cell_type": "code",
   "execution_count": null,
   "metadata": {},
   "outputs": [],
   "source": [
    "#20-inserta un nuevo elemento en una posición específica determinada por el usuario (debereis usar \n",
    "# la función input para preguntar al usuario en que posición quiere insertar el elemento)."
   ]
  },
  {
   "cell_type": "code",
   "execution_count": null,
   "metadata": {},
   "outputs": [],
   "source": [
    "#21- verifica si un elemento específico está presente en ella. \n",
    "# Igual que el caso anterior, debereis preguntar al usuario que elemento quiere buscar en la lista. El resultado deberá ser True o False."
   ]
  },
  {
   "cell_type": "code",
   "execution_count": null,
   "metadata": {},
   "outputs": [],
   "source": [
    "#22-Crea una lista inicial, realiza operaciones de eliminación y limpieza utilizando los métodos remove(), pop() y clear(), y observa cómo afectan a la lista."
   ]
  },
  {
   "cell_type": "code",
   "execution_count": null,
   "metadata": {},
   "outputs": [
    {
     "name": "stdout",
     "output_type": "stream",
     "text": [
      "(50, 100, 500, 1000, 2000)\n"
     ]
    }
   ],
   "source": [
    "#----------------------------------------------TUPLAS----------------------------------------------------------------------\n",
    "#1-Acceder al primer elemento de una tupla\n",
    "tupla1 = (50, 100, 500, 1000, 2000)\n",
    "print(tupla1)"
   ]
  },
  {
   "cell_type": "code",
   "execution_count": null,
   "metadata": {},
   "outputs": [
    {
     "name": "stdout",
     "output_type": "stream",
     "text": [
      "2000\n"
     ]
    }
   ],
   "source": [
    "#2-Acceder al último elemento de una tupla\n",
    "ultimo_elemento = tupla1[-1]\n",
    "print(ultimo_elemento)"
   ]
  },
  {
   "cell_type": "code",
   "execution_count": null,
   "metadata": {},
   "outputs": [
    {
     "name": "stdout",
     "output_type": "stream",
     "text": [
      "La longitud de la tupla es: 5\n"
     ]
    }
   ],
   "source": [
    "#3-Obtener la longitud de una tupla\n",
    "longitud = len(tupla1)\n",
    "print(\"La longitud de la tupla es:\", longitud)"
   ]
  },
  {
   "cell_type": "code",
   "execution_count": null,
   "metadata": {},
   "outputs": [],
   "source": [
    "#4-Concatenar dos tuplas\n",
    "tupla1 = (50, 100, 500, 1000, 2000)\n",
    "tupla2 = (10,30,70,300,700)\n"
   ]
  }
 ],
 "metadata": {
  "kernelspec": {
   "display_name": "Python 3",
   "language": "python",
   "name": "python3"
  },
  "language_info": {
   "codemirror_mode": {
    "name": "ipython",
    "version": 3
   },
   "file_extension": ".py",
   "mimetype": "text/x-python",
   "name": "python",
   "nbconvert_exporter": "python",
   "pygments_lexer": "ipython3",
   "version": "3.9.6"
  }
 },
 "nbformat": 4,
 "nbformat_minor": 2
}
