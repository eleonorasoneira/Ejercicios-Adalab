{
 "cells": [
  {
   "cell_type": "code",
   "execution_count": null,
   "metadata": {},
   "outputs": [],
   "source": [
    "#definimos los valores de las variables numeros\n",
    "numero1 = 20\n",
    "numero2 = 10\n",
    "numero3 = 30"
   ]
  },
  {
   "cell_type": "code",
   "execution_count": null,
   "metadata": {},
   "outputs": [
    {
     "name": "stdout",
     "output_type": "stream",
     "text": [
      "True\n"
     ]
    }
   ],
   "source": [
    "#preguntamos si el numero 1 es mayor al numero 2\n",
    "print(numero1>numero2)"
   ]
  },
  {
   "cell_type": "code",
   "execution_count": null,
   "metadata": {},
   "outputs": [
    {
     "name": "stdout",
     "output_type": "stream",
     "text": [
      "False\n"
     ]
    }
   ],
   "source": [
    "#preguntamos si el numero 1 es menor al numero 2\n",
    "print(numero1<numero2)"
   ]
  },
  {
   "cell_type": "code",
   "execution_count": null,
   "metadata": {},
   "outputs": [
    {
     "name": "stdout",
     "output_type": "stream",
     "text": [
      "False\n"
     ]
    }
   ],
   "source": [
    "#preguntamos si el numero 3 es igual al numero 2\n",
    "print(numero3==numero2)"
   ]
  },
  {
   "cell_type": "code",
   "execution_count": null,
   "metadata": {},
   "outputs": [
    {
     "name": "stdout",
     "output_type": "stream",
     "text": [
      "True\n"
     ]
    }
   ],
   "source": [
    "#preguntamos si el numero 2 es diferente al numero 1\n",
    "print(numero2!=numero1)"
   ]
  },
  {
   "cell_type": "code",
   "execution_count": null,
   "metadata": {},
   "outputs": [],
   "source": [
    "#definimos los valores de las variables alturas\n",
    "altura1 = 1.70\n",
    "altura2 = 1.54"
   ]
  },
  {
   "cell_type": "code",
   "execution_count": null,
   "metadata": {},
   "outputs": [
    {
     "name": "stdout",
     "output_type": "stream",
     "text": [
      "3.24\n"
     ]
    }
   ],
   "source": [
    "#la suma de las alturas\n",
    "print (altura1 + altura2)"
   ]
  },
  {
   "cell_type": "code",
   "execution_count": null,
   "metadata": {},
   "outputs": [
    {
     "name": "stdout",
     "output_type": "stream",
     "text": [
      "0.15999999999999992\n"
     ]
    }
   ],
   "source": [
    "#sacamos la diferencia entre las alturas\n",
    "print (altura1 - altura2)"
   ]
  },
  {
   "cell_type": "code",
   "execution_count": 23,
   "metadata": {},
   "outputs": [
    {
     "name": "stdout",
     "output_type": "stream",
     "text": [
      "0.15999999999999992\n"
     ]
    }
   ],
   "source": [
    "print (altura1 % altura2)"
   ]
  },
  {
   "cell_type": "code",
   "execution_count": null,
   "metadata": {},
   "outputs": [
    {
     "name": "stdout",
     "output_type": "stream",
     "text": [
      "1.1\n"
     ]
    }
   ],
   "source": [
    "#pido el resto de las 2 alturas\n",
    "print (round(altura1 / altura2,2))"
   ]
  },
  {
   "cell_type": "code",
   "execution_count": 3,
   "metadata": {},
   "outputs": [
    {
     "name": "stdout",
     "output_type": "stream",
     "text": [
      "ELeonora Soneira\n"
     ]
    }
   ],
   "source": [
    "#le pido el nombre completo\n",
    "nombre = input ('Cual es tu nombre?')\n",
    "apellido = input(\"Cual es tu apellido?\")\n",
    "nombre_completo = nombre + ' ' + apellido\n",
    "print(nombre_completo)"
   ]
  },
  {
   "cell_type": "code",
   "execution_count": 4,
   "metadata": {},
   "outputs": [
    {
     "name": "stdout",
     "output_type": "stream",
     "text": [
      "ELEONORA SONEIRA\n"
     ]
    }
   ],
   "source": [
    "#todo en mayuscula\n",
    "print(nombre_completo.upper())"
   ]
  },
  {
   "cell_type": "code",
   "execution_count": 5,
   "metadata": {},
   "outputs": [
    {
     "name": "stdout",
     "output_type": "stream",
     "text": [
      "eleonora soneira\n"
     ]
    }
   ],
   "source": [
    "#todo en minúsculas\n",
    "print(nombre_completo.lower())"
   ]
  },
  {
   "cell_type": "code",
   "execution_count": 6,
   "metadata": {},
   "outputs": [
    {
     "name": "stdout",
     "output_type": "stream",
     "text": [
      "Eleonora Soneira\n"
     ]
    }
   ],
   "source": [
    "#nombre y apellidos con la primera letra del nombre y los apellidos en mayúscula y el resto en minúscula.\n",
    "print(nombre_completo.title())"
   ]
  },
  {
   "cell_type": "code",
   "execution_count": 7,
   "metadata": {},
   "outputs": [
    {
     "name": "stdout",
     "output_type": "stream",
     "text": [
      "Eleonora\n"
     ]
    }
   ],
   "source": [
    "#solo la primera letra del nombre en mayúscula\n",
    "print(nombre.title())"
   ]
  },
  {
   "cell_type": "code",
   "execution_count": 8,
   "metadata": {},
   "outputs": [
    {
     "name": "stdout",
     "output_type": "stream",
     "text": [
      "Programar se aprende programando\n"
     ]
    }
   ],
   "source": [
    "#pregunte al usuario por una frase, almacenad este resultado en una variable\n",
    "frase = input ('Dinos tu frase preferida')\n",
    "print(frase)"
   ]
  },
  {
   "cell_type": "code",
   "execution_count": 10,
   "metadata": {},
   "outputs": [
    {
     "name": "stdout",
     "output_type": "stream",
     "text": [
      "a\n"
     ]
    }
   ],
   "source": [
    "#pregunte al usuario por una vocal, almacenad este resultado en una variable.\n",
    "vocal = input ('Dinos una vocal de la frase')\n",
    "print(vocal)"
   ]
  },
  {
   "cell_type": "code",
   "execution_count": 19,
   "metadata": {},
   "outputs": [
    {
     "name": "stdout",
     "output_type": "stream",
     "text": [
      "ProgrAmAr se Aprende progrAmAndo\n"
     ]
    }
   ],
   "source": [
    "#la misma frase pero con la vocal introducida en mayúsulas\n",
    "frase_modificada = frase.replace(vocal, vocal.upper())\n",
    "print (frase_modificada)"
   ]
  },
  {
   "cell_type": "code",
   "execution_count": 26,
   "metadata": {},
   "outputs": [
    {
     "name": "stdout",
     "output_type": "stream",
     "text": [
      "['agua', ' limon', ' sal']\n"
     ]
    }
   ],
   "source": [
    "#pregunte al usuario por la lista de la compra, separando cada elemento por comas.\n",
    "compras = input ('Que cosas necesitas comprar en el supermercado? - por favor separa los elementos con comas')\n",
    "#Separo el listado con comas\n",
    "compras_con_comas = compras.split(',')\n",
    "print(compras_con_comas)"
   ]
  },
  {
   "cell_type": "code",
   "execution_count": 27,
   "metadata": {},
   "outputs": [
    {
     "name": "stdout",
     "output_type": "stream",
     "text": [
      "agua\n",
      " limon\n",
      " sal\n"
     ]
    }
   ],
   "source": [
    "#Devolved la lista de compra donde veamos cada elemento en una línea.\n",
    "lista_compras = \"\\n\".join(compras_con_comas)\n",
    "print(lista_compras)"
   ]
  }
 ],
 "metadata": {
  "kernelspec": {
   "display_name": "base",
   "language": "python",
   "name": "python3"
  },
  "language_info": {
   "codemirror_mode": {
    "name": "ipython",
    "version": 3
   },
   "file_extension": ".py",
   "mimetype": "text/x-python",
   "name": "python",
   "nbconvert_exporter": "python",
   "pygments_lexer": "ipython3",
   "version": "3.12.7"
  }
 },
 "nbformat": 4,
 "nbformat_minor": 2
}
